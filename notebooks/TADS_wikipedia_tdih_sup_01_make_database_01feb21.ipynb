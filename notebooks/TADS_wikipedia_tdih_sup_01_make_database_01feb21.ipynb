{
 "cells": [
  {
   "cell_type": "markdown",
   "metadata": {},
   "source": [
    "# Wikipedia Events Database\n",
    "---\n",
    "  \n",
    "**Goal:** create a database for the events I retrieve from Wikipedia and write python scripts for CRUD-ing data in the database.   \n",
    "  \n",
    "  \n",
    "**Notes:** \n",
    "- this is a supporting notebook for the TADS_Wikipedia_this_day_in_history project  \n",
    "\n",
    "### TO-DO:\n",
    "---  \n",
    "  \n",
    "- [ ] create database  \n",
    "- [ ] create tables  \n",
    "- [x] create picture of the database schema\n",
    "- [ ] write code for CRUD-ing data in the database\n",
    "    - example"
   ]
  },
  {
   "cell_type": "code",
   "execution_count": 1,
   "metadata": {},
   "outputs": [],
   "source": [
    "import sqlite3"
   ]
  },
  {
   "cell_type": "markdown",
   "metadata": {},
   "source": [
    "### Preliminary schema"
   ]
  },
  {
   "cell_type": "code",
   "execution_count": 2,
   "metadata": {},
   "outputs": [
    {
     "data": {
      "text/html": [
       "<img src = './images/img_ss_database_schema_01_01feb21.jpg' width='70%'>\n"
      ],
      "text/plain": [
       "<IPython.core.display.HTML object>"
      ]
     },
     "metadata": {},
     "output_type": "display_data"
    }
   ],
   "source": [
    "%%html \n",
    "<img src = './images/img_ss_database_schema_01_01feb21.jpg' width='70%'>"
   ]
  },
  {
   "cell_type": "markdown",
   "metadata": {},
   "source": [
    "## Create database and tables"
   ]
  },
  {
   "cell_type": "code",
   "execution_count": null,
   "metadata": {},
   "outputs": [],
   "source": [
    "with sqlite3.connect('wikipedia_tdih.db') as conn:\n",
    "    # initialize cursor\n",
    "    c = conn.cursor()\n",
    "    \n",
    "    # create table wiki_day_data_log\n",
    "    c.execute('''CREATE TABLE wiki_day_data_log \n",
    "                (day_data_log_id INT AUTOINCREMENT,\n",
    "                 doe TEXT,\n",
    "                 day INT,\n",
    "                 month INT,\n",
    "                 status_code INT,\n",
    "                 day_soup BLOB,\n",
    "                 no_event_for TEXT''')\n",
    "    \n",
    "    # create table wiki_link\n",
    "    c.execute('''CREATE TABLE wiki_link \n",
    "                (link_id INT AUTOINCREMENT,\n",
    "                 doe TEXT,\n",
    "                 link_url TEXT UNIQUE,\n",
    "                 PRIMARY KEY (link_id))''')\n",
    "    \n",
    "    # create table wiki_event\n",
    "    c.execute('''CREATE TABLE wiki_event \n",
    "                (event_id INT AUTOINCREMENT,\n",
    "                 doe TEXT,\n",
    "                 day INT,\n",
    "                 month INT,\n",
    "                 year INT,\n",
    "                 bc_ad TEXT,\n",
    "                 bc_ad_note TEXT,\n",
    "                 event_type TEXT,\n",
    "                 event_description TEXT,\n",
    "                 event_first_link_id INT,\n",
    "                 event_links_list BLOB,\n",
    "                 FOREIGN KEY (event_first_link_id) REFERENCES wiki_link(link_id),\n",
    "                 PRIMARY KEY (event_id))''')\n",
    "    \n",
    "\n",
    "    # create table wiki_link_usage\n",
    "    c.execute('''CREATE TABLE wiki_link_usage \n",
    "                (link_usage_id INT AUTOINCREMENT,\n",
    "                 doe TEXT,\n",
    "                 link_id INT,\n",
    "                 event_id INT,\n",
    "                 is_first_link INT,\n",
    "                 FOREIGN KEY (link_id) REFERENCES wiki_link(link_id),\n",
    "                 FOREIGN KEY (event_id) REFERENCES wiki_event(event_id)''')\n",
    "    \n",
    "    # create table wiki_link_data_log\n",
    "    c.execute('''CREATE TABLE wiki_link_data_log \n",
    "                (link_data_log_id INT AUTOINCREMENT,\n",
    "                 doe TEXT,\n",
    "                 link_id INT,\n",
    "                 status_code INT,\n",
    "                 FOREIGN KEY (link_id) REFERENCES wiki_link(link_id)''')\n",
    "    \n",
    "    # create table wiki_link_size\n",
    "    c.execute('''CREATE TABLE wiki_link_size \n",
    "                (link_size_id INT AUTOINCREMENT,\n",
    "                 doe TEXT,\n",
    "                 link_id INT, \n",
    "                 link_size INT,\n",
    "                 FOREIGN KEY (link_id) REFERENCES wiki_link(link_id)''')\n",
    "    \n",
    "    # create table wiki_link_page_views\n",
    "    c.execute('''CREATE TABLE wiki_link_page_views \n",
    "                (link_page_views_id INT AUTOINCREMENT,\n",
    "                 doe TEXT,\n",
    "                 link_id INT,\n",
    "                 page_views_date TEXT,\n",
    "                 page_views INT,\n",
    "                 FOREIGN KEY (link_id) REFERENCES wiki_link(link_id)''')\n",
    "    \n",
    "    # create table wiki_image\n",
    "    c.execute('''CREATE TABLE wiki_image \n",
    "                (image_id INT AUTOINCREMENT,\n",
    "                 doe TEXT,\n",
    "                 image_url TEXT,\n",
    "                 PRIMARY KEY (image_id))''')\n",
    "    \n",
    "    # create table wiki_image_usage\n",
    "    c.execute('''CREATE TABLE wiki_image_usage\n",
    "                (image_usage_id INT AUTOINCREMENT,\n",
    "                 doe TEXT,\n",
    "                 image_id INT,\n",
    "                 link_id INT,\n",
    "                 FOREIGN KEY (image_id) REFERENCES wiki_image(image_id))''')\n",
    "    \n",
    "    # create table wiki_credit\n",
    "    c.execute('''CREATE TABLE wiki_credit \n",
    "                (credit_id INT AUTOINCREMENT,\n",
    "                 doe TEXT,\n",
    "                 credit_username TEXT UNIQUE,\n",
    "                 PRIMARY KEY (credit_id))''')\n",
    "    \n",
    "    # create table wiki_copyright license\n",
    "    c.execute('''CREATE TABLE wiki_copyright_license\n",
    "                (copyright_license_id INT AUTOINCREMENT,\n",
    "                 doe TEXT,\n",
    "                 license_name TEXT,\n",
    "                 license_description TEXT,\n",
    "                 is_reuse_rights INT,\n",
    "                 PRIMARY KEY (copyright_license_id))''')\n",
    "    \n",
    "    # create table wiki_image_info\n",
    "    c.execute('''CREATE TABLE wiki_image_info \n",
    "                (image_info_id INT AUTOINCREMENT,\n",
    "                 doe TEXT,\n",
    "                 image_id INT,\n",
    "                 copyright_license_id INT,\n",
    "                 image_credit_id INT,\n",
    "                 FOREIGN KEY (image_id) REFERENCES wiki_image(image_id),\n",
    "                 FOREIGN KEY (copyright_license_id) REFERENCES wiki_copyright_license(copyright_license_id),\n",
    "                 FOREIGN KEY (image_credit_id) REFERNCES wiki_credit(credit_id))''')\n",
    "    \n"
   ]
  },
  {
   "cell_type": "code",
   "execution_count": null,
   "metadata": {},
   "outputs": [],
   "source": []
  },
  {
   "cell_type": "markdown",
   "metadata": {},
   "source": [
    "Flow:\n",
    "---  \n",
    "  \n",
    "1. run day_data_main\n",
    "    - returns nested dictionary day_data_dict\n",
    "        - status_code\n",
    "        - day_text_soup\n",
    "        - events\n",
    "        - births\n",
    "        - deaths\n",
    "        - holidays_and_observances\n",
    "        - no_event_for  \n",
    "\n",
    "\n",
    "2. log data into wiki_get_day_data_log\n",
    "    - id\n",
    "    - day\n",
    "    - month\n",
    "    - status_code\n",
    "    - day_text_soup\n",
    "    - no_event_for"
   ]
  }
 ],
 "metadata": {
  "kernelspec": {
   "display_name": "Python 3",
   "language": "python",
   "name": "python3"
  },
  "language_info": {
   "codemirror_mode": {
    "name": "ipython",
    "version": 3
   },
   "file_extension": ".py",
   "mimetype": "text/x-python",
   "name": "python",
   "nbconvert_exporter": "python",
   "pygments_lexer": "ipython3",
   "version": "3.7.7"
  }
 },
 "nbformat": 4,
 "nbformat_minor": 4
}
