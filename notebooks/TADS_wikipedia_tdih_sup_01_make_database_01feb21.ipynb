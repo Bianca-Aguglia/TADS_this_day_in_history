{
 "cells": [
  {
   "cell_type": "markdown",
   "metadata": {},
   "source": [
    "# Wikipedia Events Database\n",
    "---\n",
    "  \n",
    "**Goal:** create a database for the events I retrieve from Wikipedia and write python scripts for CRUD-ing data in the database.   \n",
    "  \n",
    "  \n",
    "**Notes:** \n",
    "- this is a supporting notebook for the TADS_Wikipedia_this_day_in_history project  \n",
    "\n",
    "### TO-DO:\n",
    "---  \n",
    "  \n",
    "- [ ] create database  \n",
    "- [ ] create tables  \n",
    "- [x] create picture of the database schema\n",
    "- [ ] write code for CRUD-ing data in the database\n",
    "    - example"
   ]
  },
  {
   "cell_type": "code",
   "execution_count": 1,
   "metadata": {},
   "outputs": [],
   "source": [
    "import sqlite3"
   ]
  },
  {
   "cell_type": "markdown",
   "metadata": {},
   "source": [
    "### Preliminary schema"
   ]
  },
  {
   "cell_type": "code",
   "execution_count": 3,
   "metadata": {},
   "outputs": [
    {
     "data": {
      "text/html": [
       "<img src = '../images/img_ss_database_schema_01_01feb21.jpg' width='70%'>\n"
      ],
      "text/plain": [
       "<IPython.core.display.HTML object>"
      ]
     },
     "metadata": {},
     "output_type": "display_data"
    }
   ],
   "source": [
    "%%html \n",
    "<img src = '../images/img_ss_database_schema_01_01feb21.jpg' width='70%'>\n"
   ]
  },
  {
   "cell_type": "markdown",
   "metadata": {},
   "source": [
    "## Create database and tables"
   ]
  },
  {
   "cell_type": "code",
   "execution_count": null,
   "metadata": {},
   "outputs": [],
   "source": [
    "with sqlite3.connect(DATABASE_FILE) as conn:\n",
    "    # initialize cursor\n",
    "    c = conn.cursor()\n",
    "    \n",
    "    # create table wiki_day_data_log\n",
    "    c.execute('''CREATE TABLE IF NOT EXISTS wiki_day_data_log \n",
    "                (day_data_log_id INTEGER PRIMARY KEY,\n",
    "                 doe TEXT,\n",
    "                 day INTEGER,\n",
    "                 month INTEGER,\n",
    "                 status_code INTEGER,\n",
    "                 day_soup BLOB,\n",
    "                 no_event_for TEXT)''')\n",
    "    \n",
    "    # create table wiki_link\n",
    "    c.execute('''CREATE TABLE IF NOT EXISTS wiki_link \n",
    "                (link_id INTEGER PRIMARY KEY,\n",
    "                 doe TEXT,\n",
    "                 link_url TEXT UNIQUE)''')\n",
    "    \n",
    "    # create table wiki_event\n",
    "    c.execute('''CREATE TABLE IF NOT EXISTS wiki_event \n",
    "                (event_id INTEGER PRIMARY KEY,\n",
    "                 doe TEXT,\n",
    "                 day INTEGER,\n",
    "                 month INTEGER,\n",
    "                 year INTEGER,\n",
    "                 bc_ad TEXT,\n",
    "                 bc_ad_note TEXT,\n",
    "                 event_type TEXT,\n",
    "                 event_description TEXT,\n",
    "                 event_first_link_id INTEGER,\n",
    "                 event_links_list BLOB,\n",
    "                 FOREIGN KEY (event_first_link_id) REFERENCES wiki_link(link_id))''')\n",
    "    \n",
    "\n",
    "    # create table wiki_link_usage\n",
    "    c.execute('''CREATE TABLE IF NOT EXISTS wiki_link_usage \n",
    "                (link_usage_id INTEGER PRIMARY KEY,\n",
    "                 doe TEXT,\n",
    "                 link_id INTEGER,\n",
    "                 event_id INTEGER,\n",
    "                 is_first_link INTEGER,\n",
    "                 FOREIGN KEY (link_id) REFERENCES wiki_link(link_id),\n",
    "                 FOREIGN KEY (event_id) REFERENCES wiki_event(event_id))''')\n",
    "    \n",
    "    # create table wiki_link_data_log\n",
    "    c.execute('''CREATE TABLE IF NOT EXISTS wiki_link_data_log \n",
    "                (link_data_log_id INTEGER PRIMARY KEY,\n",
    "                 doe TEXT,\n",
    "                 link_id INTEGER,\n",
    "                 status_code INTEGER,\n",
    "                 FOREIGN KEY (link_id) REFERENCES wiki_link(link_id))''')\n",
    "    \n",
    "    # create table wiki_link_size\n",
    "    c.execute('''CREATE TABLE IF NOT EXISTS wiki_link_size \n",
    "                (link_size_id INTEGER PRIMARY KEY,\n",
    "                 doe TEXT,\n",
    "                 link_id INTEGER, \n",
    "                 link_size INTEGER,\n",
    "                 FOREIGN KEY (link_id) REFERENCES wiki_link(link_id))''')\n",
    "    \n",
    "    # create table wiki_link_page_views\n",
    "    c.execute('''CREATE TABLE IF NOT EXISTS wiki_link_page_views \n",
    "                (link_page_views_id INTEGER PRIMARY KEY,\n",
    "                 doe TEXT,\n",
    "                 link_id INTEGER,\n",
    "                 page_views_date TEXT,\n",
    "                 page_views INTEGER,\n",
    "                 FOREIGN KEY (link_id) REFERENCES wiki_link(link_id))''')\n",
    "    \n",
    "    # create table wiki_image\n",
    "    c.execute('''CREATE TABLE IF NOT EXISTS wiki_image \n",
    "                (image_id INTEGER PRIMARY KEY,\n",
    "                 doe TEXT,\n",
    "                 image_url TEXT)''')\n",
    "    \n",
    "    # create table wiki_image_usage\n",
    "    c.execute('''CREATE TABLE IF NOT EXISTS wiki_image_usage\n",
    "                (image_usage_id INTEGER PRIMARY KEY,\n",
    "                 doe TEXT,\n",
    "                 image_id INTEGER,\n",
    "                 link_id INTEGER,\n",
    "                 FOREIGN KEY (image_id) REFERENCES wiki_image(image_id))''')\n",
    "    \n",
    "    # create table wiki_credit\n",
    "    c.execute('''CREATE TABLE IF NOT EXISTS wiki_credit \n",
    "                (credit_id INTEGER PRIMARY KEY,\n",
    "                 doe TEXT,\n",
    "                 credit_username TEXT UNIQUE)''')\n",
    "    \n",
    "    # create table wiki_copyright license\n",
    "    c.execute('''CREATE TABLE IF NOT EXISTS wiki_copyright_license\n",
    "                (copyright_license_id INTEGER PRIMARY KEY,\n",
    "                 doe TEXT,\n",
    "                 license_name TEXT,\n",
    "                 license_description TEXT,\n",
    "                 is_reuse_rights INTEGER)''')\n",
    "    \n",
    "    # create table wiki_image_info\n",
    "    c.execute('''CREATE TABLE IF NOT EXISTS wiki_image_info \n",
    "                (image_info_id INTEGER PRIMARY KEY,\n",
    "                 doe TEXT,\n",
    "                 image_id INTEGER,\n",
    "                 copyright_license_id INTEGER,\n",
    "                 image_credit_id INTEGER,\n",
    "                 FOREIGN KEY (image_id) REFERENCES wiki_image(image_id),\n",
    "                 FOREIGN KEY (copyright_license_id) REFERENCES wiki_copyright_license(copyright_license_id),\n",
    "                 FOREIGN KEY (image_credit_id) REFERENCES wiki_credit(credit_id))''')   "
   ]
  },
  {
   "cell_type": "code",
   "execution_count": null,
   "metadata": {},
   "outputs": [],
   "source": []
  },
  {
   "cell_type": "markdown",
   "metadata": {},
   "source": [
    "## Database CRUD functions"
   ]
  },
  {
   "cell_type": "code",
   "execution_count": null,
   "metadata": {},
   "outputs": [],
   "source": [
    "def add_day_data_to_db(day_data_dict, doe = DOE):\n",
    "    \"\"\"\n",
    "    Main function for adding a day's data to wikipedia_tdih.db.\n",
    "    It that takes the day data retrieved and cleaned up with day_data_main and uses it to update\n",
    "    the following tables:\n",
    "        - wiki_day_data_log\n",
    "        - wiki_event\n",
    "        - wiki_link (if link not already in wiki_link)\n",
    "        - wiki_link_usage\n",
    "    \n",
    "    Params:\n",
    "        day_data_dict: dictionary with day data (created with day_data_main)\n",
    "        doe: date of entry (defaults to current day)\n",
    "        \n",
    "    Returns:\n",
    "        update_results: a list of dictionaries with the status of each table update\n",
    "    \"\"\"\n",
    "    update_results = []\n",
    "    \n",
    "    # make smaller dictionaries based on which table data belongs in\n",
    "    # data for the wiki_day_data_log\n",
    "    day_data = {key: day_data_dict[key] for key in ['status_code', 'day_soup', 'no_event_for']}\n",
    "    # data for wiki_event (and, if needed, wiki_link)\n",
    "    event_data = {key: day_data_dict.get(key, []) for key in ['events', 'births', 'deaths',\n",
    "                                                            'holidays_and_observances']}\n",
    "    \n",
    "    # get day and month for the data being looged\n",
    "    day = day_data_dict['day']\n",
    "    month = day_data_dict['month']\n",
    "    \n",
    "    with sqlite3.connect(DATABASE_FILE) as conn:\n",
    "        c = conn.cursor()\n",
    "        \n",
    "        # log data into wiki_day_data_log\n",
    "        update_wiki_day_data_log = update_table_wiki_day_data_log(day_data, day, month, doe, c)\n",
    "        update_results.append(update_wiki_day_data_log)\n",
    "        \n",
    "        # log data into wiki_event (and, if needed, in wiki_link)\n",
    "        for event_type in event_data:\n",
    "            update_wiki_event = update_table_wiki_event(event_data[event_type], event_type, doe, c)\n",
    "            update_results.append(update_wiki_event)\n",
    "            \n",
    "    return update_results"
   ]
  },
  {
   "cell_type": "code",
   "execution_count": null,
   "metadata": {},
   "outputs": [],
   "source": []
  },
  {
   "cell_type": "markdown",
   "metadata": {},
   "source": [
    "Flow:\n",
    "---  \n",
    "  \n",
    "1. run day_data_main\n",
    "    - returns nested dictionary day_data_dict\n",
    "        - status_code\n",
    "        - day_text_soup\n",
    "        - events\n",
    "        - births\n",
    "        - deaths\n",
    "        - holidays_and_observances\n",
    "        - no_event_for  \n",
    "\n",
    "\n",
    "2. log data into wiki_get_day_data_log\n",
    "    - id\n",
    "    - day\n",
    "    - month\n",
    "    - status_code\n",
    "    - day_text_soup\n",
    "    - no_event_for"
   ]
  }
 ],
 "metadata": {
  "kernelspec": {
   "display_name": "Python 3",
   "language": "python",
   "name": "python3"
  },
  "language_info": {
   "codemirror_mode": {
    "name": "ipython",
    "version": 3
   },
   "file_extension": ".py",
   "mimetype": "text/x-python",
   "name": "python",
   "nbconvert_exporter": "python",
   "pygments_lexer": "ipython3",
   "version": "3.7.7"
  }
 },
 "nbformat": 4,
 "nbformat_minor": 4
}
