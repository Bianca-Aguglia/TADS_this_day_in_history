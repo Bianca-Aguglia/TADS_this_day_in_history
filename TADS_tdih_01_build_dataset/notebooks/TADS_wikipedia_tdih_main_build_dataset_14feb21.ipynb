{
 "cells": [
  {
   "cell_type": "markdown",
   "metadata": {},
   "source": [
    "# TADS - this day in history - build dataset\n",
    "---\n",
    "**Goal:** create a dataset of this-day-in-history events  \n",
    "  \n",
    "**Context:**  I need a starting dataset of world history events (name, short description, long description, image, and location). I couldn't find public datasets. I'm building one using the wikipedia this day in history data.\n",
    "\n",
    "**Notes:** \n",
    "- this is part one of project TADS_this_day_in_history\n",
    "- the database build during this part has the data needed to build parts two (the API) and three (the web app)\n",
    "- I first tried to get the data by scraping it from wikipedia because the wikipedia API is confusing. After reading more about the API, I decided to change the process flow and use the Wikipedia API."
   ]
  },
  {
   "cell_type": "code",
   "execution_count": null,
   "metadata": {},
   "outputs": [],
   "source": []
  }
 ],
 "metadata": {
  "kernelspec": {
   "display_name": "Python 3",
   "language": "python",
   "name": "python3"
  },
  "language_info": {
   "codemirror_mode": {
    "name": "ipython",
    "version": 3
   },
   "file_extension": ".py",
   "mimetype": "text/x-python",
   "name": "python",
   "nbconvert_exporter": "python",
   "pygments_lexer": "ipython3",
   "version": "3.7.7"
  }
 },
 "nbformat": 4,
 "nbformat_minor": 4
}
